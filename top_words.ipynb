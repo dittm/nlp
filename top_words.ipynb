{
 "cells": [
  {
   "cell_type": "markdown",
   "id": "4288c653-a0ef-4955-b7e2-8ab8a4dd5b3e",
   "metadata": {},
   "source": [
    "# Most frequent words\n",
    "### using nltk and matplotlib"
   ]
  },
  {
   "cell_type": "markdown",
   "id": "d7a4af5b-0ac0-433a-ac6c-88f7efc75672",
   "metadata": {},
   "source": [
    "First, we import a python library called Natural Language Toolkit, short nltk. The nltk is a library in Python that provides tools to work with human language data (text). It includes modules for tokenization, stemming, and tagging, and is used for natural language processing (NLP). \n",
    "\n",
    "Second, we import the python module called 'string', which contains a collection of strings: all ASCII letters, digits, and special characters. This module is not essential and can be left out, but it simplifies the cleaning of the data (more on that later). \n",
    "\n",
    "Third, we import the submodule 'pyplot' from the matplotlib library. We create an alias called 'plt', which we use to call functions from the pyplot module. The matplotlib library is used to create various types of charts, bars and other visualization types."
   ]
  },
  {
   "cell_type": "code",
   "execution_count": 1,
   "id": "65ba6533-3ba1-46d6-b0b8-86e520eb319c",
   "metadata": {},
   "outputs": [],
   "source": [
    "import nltk\n",
    "import string\n",
    "import matplotlib.pyplot as plt"
   ]
  },
  {
   "cell_type": "markdown",
   "id": "7f558e8f-7ce1-4828-aaca-fee4e830e823",
   "metadata": {},
   "source": [
    "We then download the English stopwords ('stopwords') and punctuation ('punkt') list from the nltk module. Stopwords are common words like 'the', 'and', 'I', etc. that are very frequent in text, and do not convey insights into the specific topic of a document. We download these two packages so we can remove them from our results later on."
   ]
  },
  {
   "cell_type": "code",
   "execution_count": 2,
   "id": "9401cb83-2b28-49a7-b398-a22f067e53ab",
   "metadata": {},
   "outputs": [
    {
     "name": "stderr",
     "output_type": "stream",
     "text": [
      "[nltk_data] Downloading package stopwords to\n",
      "[nltk_data]     C:\\Users\\dittm\\AppData\\Roaming\\nltk_data...\n",
      "[nltk_data]   Package stopwords is already up-to-date!\n",
      "[nltk_data] Downloading package punkt to\n",
      "[nltk_data]     C:\\Users\\dittm\\AppData\\Roaming\\nltk_data...\n",
      "[nltk_data]   Package punkt is already up-to-date!\n"
     ]
    },
    {
     "data": {
      "text/plain": [
       "True"
      ]
     },
     "execution_count": 2,
     "metadata": {},
     "output_type": "execute_result"
    }
   ],
   "source": [
    "nltk.download('stopwords')\n",
    "nltk.download('punkt')"
   ]
  },
  {
   "cell_type": "markdown",
   "id": "ae15bd6a-c838-43c9-8ada-686b8a51afbb",
   "metadata": {},
   "source": [
    "We then open the text file of our short story \"The Ice Man\" by Haruki Murakami"
   ]
  },
  {
   "cell_type": "code",
   "execution_count": 3,
   "id": "970b86ad-383b-455e-8b61-6a4510a38124",
   "metadata": {},
   "outputs": [],
   "source": [
    "with open('texts/nlp/ice_man.txt', 'r', encoding='utf-8') as f:\n",
    "    text = f.read()"
   ]
  },
  {
   "cell_type": "markdown",
   "id": "289d8575-dca5-444f-a494-8b3c4d3e4561",
   "metadata": {},
   "source": [
    "We then tokenize the text and get a list of all the words. We do this by using the word_tokenize() function included in nltk"
   ]
  },
  {
   "cell_type": "code",
   "execution_count": 4,
   "id": "532b3d4e-a42f-4632-aefa-c44960775848",
   "metadata": {},
   "outputs": [],
   "source": [
    "words = nltk.word_tokenize(text)"
   ]
  },
  {
   "cell_type": "markdown",
   "id": "f0d0c590-9666-4278-9d80-f543d48f97e6",
   "metadata": {},
   "source": [
    "Now we transform the tokens into lowercase by using list comprehension, so that e.g. 'ice' and 'Ice' would be treated as one entity later on:"
   ]
  },
  {
   "cell_type": "code",
   "execution_count": 5,
   "id": "e63d0295-8ba8-4caa-bfd0-b01f54177fd9",
   "metadata": {},
   "outputs": [],
   "source": [
    "words = [ line.strip().lower() for line in words if line]"
   ]
  },
  {
   "cell_type": "markdown",
   "id": "cde3820a-b579-47c7-9a8e-d768443e9c2b",
   "metadata": {},
   "source": [
    "In the next step we remove stopwords and punctuation from the list of words. We start by using the stopwords.words('english') function to get all English stopwords from the nltk.corpus module. This list is then assigned to a variable called stopwords.\n",
    "For punctuation, we get the 'punctuation' constant from the string module and assign the list to a variable called 'punctuation'."
   ]
  },
  {
   "cell_type": "code",
   "execution_count": 6,
   "id": "9596ca53-9b43-4ea6-85fc-36b694513cb8",
   "metadata": {},
   "outputs": [],
   "source": [
    "stopwords = nltk.corpus.stopwords.words('english')\n",
    "punctuation = string.punctuation + '’'"
   ]
  },
  {
   "cell_type": "markdown",
   "id": "14baf9be-8688-491f-815d-00fb239ac62e",
   "metadata": {},
   "source": [
    "For the 'punctuation' variable, I had to manually add + '’' because the character '’' is not included in the 'punctuation' constant and was therefore not removed. Only these characters are included in the 'punctuation' constant: !\"#$%&'()*+,-./:;<=>?@[\\]^_`{|}~\n",
    "\n",
    "If you do not want to use 'import string' at all, you can just manually make a list of all punctuations that you might not want included in the results."
   ]
  },
  {
   "cell_type": "markdown",
   "id": "c244a110-1930-4b09-9695-bcf2c8e793fe",
   "metadata": {},
   "source": [
    "We then use list comprehension to create a new list called 'filtered_words' that consists of all words in the 'words' list that meet the following criteria:\n",
    "1. the word is not in the 'stopwords' list\n",
    "2. the word is not in the 'punctuation' list\n",
    "\n",
    "We additionally use the word.lower() function to convert the words in the list to lower case for better comparison. Thus, ['Man', 'ice', 'Mountain'] becomes ['man', 'ice', 'mountain']"
   ]
  },
  {
   "cell_type": "code",
   "execution_count": 7,
   "id": "73878a8a-f64e-45bf-9ce6-4b5b9533c4d6",
   "metadata": {},
   "outputs": [],
   "source": [
    "filtered_words = [word for word in words if word not in stopwords and word not in punctuation]"
   ]
  },
  {
   "cell_type": "markdown",
   "id": "427ca163-a34e-417f-97df-ed10366e3679",
   "metadata": {},
   "source": [
    "We then use the FreqDist() function from nltk to get a frequency distribution of our filtered words."
   ]
  },
  {
   "cell_type": "code",
   "execution_count": 8,
   "id": "c940b1ac-a680-468a-b3f5-1ed3682b0397",
   "metadata": {},
   "outputs": [],
   "source": [
    "fdist = nltk.FreqDist(filtered_words)"
   ]
  },
  {
   "cell_type": "markdown",
   "id": "c9a389a0-40ec-48f9-bfd3-68b1110dcd9b",
   "metadata": {},
   "source": [
    "We can then use the most_common() function to get the 30 most common words and their frequencies."
   ]
  },
  {
   "cell_type": "code",
   "execution_count": 9,
   "id": "24752dba-b3f1-4a9b-8559-cae00dfa7b21",
   "metadata": {},
   "outputs": [
    {
     "data": {
      "text/plain": [
       "[('ice', 89),\n",
       " ('man', 64),\n",
       " ('even', 26),\n",
       " ('really', 23),\n",
       " ('said', 22),\n",
       " ('like', 21),\n",
       " ('know', 20),\n",
       " ('south', 20),\n",
       " ('go', 17),\n",
       " ('husband', 17),\n",
       " ('would', 17),\n",
       " ('pole', 17),\n",
       " ('little', 15),\n",
       " ('past', 14),\n",
       " ('want', 13),\n",
       " ('one', 12),\n",
       " ('never', 12),\n",
       " ('could', 12),\n",
       " ('see', 12),\n",
       " ('place', 11),\n",
       " ('looked', 11),\n",
       " ('talk', 11),\n",
       " ('away', 11),\n",
       " ('time', 10),\n",
       " ('world', 10),\n",
       " ('made', 10),\n",
       " ('something', 10),\n",
       " ('anything', 10),\n",
       " ('future', 10),\n",
       " ('people', 9)]"
      ]
     },
     "execution_count": 9,
     "metadata": {},
     "output_type": "execute_result"
    }
   ],
   "source": [
    "most_common = fdist.most_common(30)\n",
    "most_common"
   ]
  },
  {
   "cell_type": "markdown",
   "id": "2c6b9499-21b2-44ad-abce-a80ac9f366ed",
   "metadata": {},
   "source": [
    "We then extract the words and frequencies into separate lists."
   ]
  },
  {
   "cell_type": "code",
   "execution_count": 10,
   "id": "5387a5fa-5ad9-4599-a06c-5780a132eb68",
   "metadata": {},
   "outputs": [],
   "source": [
    "words, frequencies = zip(*most_common)"
   ]
  },
  {
   "cell_type": "markdown",
   "id": "0dae3ad4-e80a-4a86-8c59-3b4dda84b4ef",
   "metadata": {},
   "source": [
    "The zip() method combines multiple iterables, such as lists or tuples, into a single iterator of tuples. The * operator is used to separate the elements within an iterable into separate arguments for the zip() function. This comes in very handy for our task because \n",
    "\n",
    "if 'most_common' contained [('ice', 67), ('man', 64)], then words, frequencies = zip(*most_common) would return ['ice', 'man'] for the 'words' list and [67, 64] for the 'frequencies' list. Thus the 'words' list now only contains the words and the 'frequencies' list only contains the frequencies."
   ]
  },
  {
   "cell_type": "markdown",
   "id": "8457fb31-f2a2-4efd-9647-c115ba75f5ff",
   "metadata": {},
   "source": [
    "We then use the figure() function from the matplotlib.pyplot module to configure the size of our bar diagram. For our diagram, I set the width to 30 inches and the height to 10 inches.\n",
    "In the next line, we use the bar() function with values from the lists 'words' and 'frequences'.\n",
    "With the show() function, we display the bar chart."
   ]
  },
  {
   "cell_type": "code",
   "execution_count": 11,
   "id": "44312f92-f180-4cb1-a6ae-fd5addd9a91e",
   "metadata": {},
   "outputs": [
    {
     "data": {
      "image/png": "[encoded data removed]",
      "text/plain": [
       "<Figure size 2160x720 with 1 Axes>"
      ]
     },
     "metadata": {
      "needs_background": "light"
     },
     "output_type": "display_data"
    }
   ],
   "source": [
    "plt.figure(figsize=(30,10))\n",
    "plt.bar(words, frequencies)\n",
    "plt.show()"
   ]
  }
 ],
 "metadata": {
  "kernelspec": {
   "display_name": "Python 3 (ipykernel)",
   "language": "python",
   "name": "python3"
  },
  "language_info": {
   "codemirror_mode": {
    "name": "ipython",
    "version": 3
   },
   "file_extension": ".py",
   "mimetype": "text/x-python",
   "name": "python",
   "nbconvert_exporter": "python",
   "pygments_lexer": "ipython3",
   "version": "3.9.12"
  },
  "vscode": {
   "interpreter": {
    "hash": "6035f208994f2d9eda500a4e498915a565b425eafe27727de63c0cbeb463bb37"
   }
  }
 },
 "nbformat": 4,
 "nbformat_minor": 5
}
